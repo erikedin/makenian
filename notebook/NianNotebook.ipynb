{
 "cells": [
  {
   "cell_type": "code",
   "execution_count": 194,
   "id": "bb7bb9b9",
   "metadata": {},
   "outputs": [],
   "source": [
    "import random\n",
    "from fastDamerauLevenshtein import damerauLevenshtein\n",
    "import time"
   ]
  },
  {
   "cell_type": "code",
   "execution_count": 195,
   "id": "5621ef58",
   "metadata": {},
   "outputs": [],
   "source": [
    "random.seed(time.time())"
   ]
  },
  {
   "cell_type": "code",
   "execution_count": 196,
   "id": "b80ef07e",
   "metadata": {},
   "outputs": [],
   "source": [
    "def generate_puzzle(word):\n",
    "    s = random.sample(word, k=len(word))\n",
    "    return ''.join(s)"
   ]
  },
  {
   "cell_type": "code",
   "execution_count": 197,
   "id": "37670908",
   "metadata": {},
   "outputs": [],
   "source": [
    "def similarity(word, puzzle):\n",
    "    return damerauLevenshtein(word, puzzle, similarity=True)"
   ]
  },
  {
   "cell_type": "code",
   "execution_count": 198,
   "id": "9a30d199",
   "metadata": {},
   "outputs": [
    {
     "name": "stdout",
     "output_type": "stream",
     "text": [
      "['DRPESOLTA', 'DRLOTPSAE', 'LOARSTEPD', 'PSRDEOLTA', 'TLAPDSROE', 'ESPRADLOT', 'SOLPRATDE', 'TLSDPAEOR', 'ASPLROTDE', 'SRLOPATDE', 'LPAEDRSOT', 'LTROSDPEA', 'TPODARELS', 'TRESLPDOA', 'SRPTALDEO', 'TADOSRLEP', 'OLDSPATRE', 'ESALPRODT', 'TLAPERDOS', 'TPOEALRDS']\n"
     ]
    }
   ],
   "source": [
    "n = 1000\n",
    "puzzle_sample1 = [generate_puzzle(\"DATORSPEL\") for i in range(n)]\n",
    "print(puzzle_sample1[0:20])"
   ]
  },
  {
   "cell_type": "code",
   "execution_count": 199,
   "id": "de7cb01f",
   "metadata": {},
   "outputs": [
    {
     "name": "stdout",
     "output_type": "stream",
     "text": [
      "[('DAROTSPEL', 0.7777777777777778), ('DAORTSPLE', 0.6666666666666666), ('DOTLRSPEA', 0.6666666666666666), ('PAORSDETL', 0.5555555555555556), ('DTAOPSELR', 0.5555555555555556), ('DAPOLSRET', 0.5555555555555556), ('DSAEORTPL', 0.5555555555555556), ('SATOLDPER', 0.5555555555555556), ('DAORSLPTE', 0.5555555555555556), ('DAOPSRETL', 0.5555555555555556), ('LTROSDPEA', 0.4444444444444444), ('TADOSRLEP', 0.4444444444444444), ('RDAETSOPL', 0.4444444444444444), ('ADORSELPT', 0.4444444444444444), ('DTOLSRAPE', 0.4444444444444444), ('LATOSPDRE', 0.4444444444444444), ('LDPTROSAE', 0.4444444444444444), ('SDTEROPAL', 0.4444444444444444), ('DORAPESLT', 0.4444444444444444), ('DAOREPLTS', 0.4444444444444444)]\n"
     ]
    }
   ],
   "source": [
    "similar1 = [(puzzle, similarity(\"DATORSPEL\", puzzle)) for puzzle in puzzle_sample1]\n",
    "similar1_sorted = sorted(similar1, key=lambda x: x[1], reverse=True)\n",
    "most_similar1 = similar1_sorted[0:20]\n",
    "print(most_similar1)"
   ]
  },
  {
   "cell_type": "code",
   "execution_count": 200,
   "id": "d4e4019d",
   "metadata": {},
   "outputs": [
    {
     "name": "stdout",
     "output_type": "stream",
     "text": [
      "['dryck', 'margerit', 'shingling', 'dununge', 'påsvante', 'utmanande', 'Skåne', 'prognosticering', 'tungkyss', 'kåsa', 'kostnadseffektiv', 'vardagsföreteelse', 'loss', 'ko', 'vindil', 'kommittebetänkande', 'guldhopp', 'skälighetsbedömning', 'förjäsa', 'vindpinad']\n"
     ]
    }
   ],
   "source": [
    "with open(\"../saol14.txt\", \"r\") as fh:\n",
    "    dictionary = fh.readlines()\n",
    "all_words = [x.strip() for x in dictionary]\n",
    "print(random.sample(all_words, k=20))"
   ]
  },
  {
   "cell_type": "code",
   "execution_count": 201,
   "id": "db692a0a",
   "metadata": {},
   "outputs": [],
   "source": [
    "def word_length(word):\n",
    "    return len(word)\n"
   ]
  },
  {
   "cell_type": "code",
   "execution_count": 202,
   "id": "761b1a22",
   "metadata": {},
   "outputs": [
    {
     "name": "stdout",
     "output_type": "stream",
     "text": [
      "Number of 9 letter words: 15810\n",
      "['hängighet', 'toppnyhet', 'preferera', 'västgräns', 'trålfiske', 'kälkbacke', 'bekämpare', 'änkeleken', 'bullighet', 'droskkusk', 'obehaglig', 'skatepark', 'uttrampad', 'jägarhorn', 'miniserie', 'tornspira', 'initierad', 'bröstfena', 'djupplöja', 'mellandag']\n"
     ]
    }
   ],
   "source": [
    "def nine_letter_words(all_words):\n",
    "    return [word for word in all_words if word_length(word) == 9]\n",
    "nine_words = nine_letter_words(all_words)\n",
    "print(f\"Number of 9 letter words: {len(nine_words)}\")\n",
    "print(random.sample(nine_words, k=20))"
   ]
  },
  {
   "cell_type": "code",
   "execution_count": 203,
   "id": "21002654",
   "metadata": {},
   "outputs": [],
   "source": [
    "def select_word(words):\n",
    "    return random.choice(words)\n",
    "#print(select_word(nine_words))"
   ]
  },
  {
   "cell_type": "code",
   "execution_count": 204,
   "id": "ea62527d",
   "metadata": {},
   "outputs": [
    {
     "name": "stdout",
     "output_type": "stream",
     "text": [
      "MDÖLFGÖIR\n"
     ]
    }
   ],
   "source": [
    "# Generate puzzle\n",
    "def find_puzzle(words):\n",
    "    word = select_word(words)\n",
    "    puzzles = [generate_puzzle(word) for i in range(100)]\n",
    "    good_enough = [puzzle for puzzle in puzzles if similarity(word, puzzle) < 0.5]\n",
    "    return random.choice(good_enough).upper()\n",
    "print(find_puzzle(nine_words))"
   ]
  },
  {
   "cell_type": "code",
   "execution_count": 205,
   "id": "9a5a6fb5",
   "metadata": {},
   "outputs": [
    {
     "data": {
      "text/plain": [
       "1670833890.1861818"
      ]
     },
     "execution_count": 205,
     "metadata": {},
     "output_type": "execute_result"
    }
   ],
   "source": [
    "import time\n",
    "time.time()"
   ]
  }
 ],
 "metadata": {
  "kernelspec": {
   "display_name": "Python 3.8.10 ('env': venv)",
   "language": "python",
   "name": "python3"
  },
  "language_info": {
   "codemirror_mode": {
    "name": "ipython",
    "version": 3
   },
   "file_extension": ".py",
   "mimetype": "text/x-python",
   "name": "python",
   "nbconvert_exporter": "python",
   "pygments_lexer": "ipython3",
   "version": "3.8.10"
  },
  "vscode": {
   "interpreter": {
    "hash": "e3afc6f4be8d6947d1386d911387b03bcef6c573a070a10b1a586d93dd9d695e"
   }
  }
 },
 "nbformat": 4,
 "nbformat_minor": 5
}
